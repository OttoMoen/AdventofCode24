{
  "cells": [
    {
      "cell_type": "markdown",
      "metadata": {
        "id": "e7qDcWW3JF8G"
      },
      "source": [
        "# Advent of Code 2024: Day 20\n",
        "https://adventofcode.com/2024/day/20\n"
      ]
    },
    {
      "cell_type": "markdown",
      "metadata": {
        "id": "krtSVL3uJOQC"
      },
      "source": [
        "## Part 1\n",
        "Find out how many cheats of two steps save over 100 steps between the start and end"
      ]
    },
    {
      "cell_type": "code",
      "execution_count": 1,
      "metadata": {
        "id": "xQfXHvPiJQrT"
      },
      "outputs": [],
      "source": [
        "position = tuple[int, int]\n",
        "\n",
        "\n",
        "def make_map(data: str):\n",
        "    with open(data, \"r\") as f:\n",
        "        data = f.read()\n",
        "    data_map = []\n",
        "    for line in data.split(\"\\n\"):\n",
        "        data_map.append([c for c in line])\n",
        "    return data_map\n",
        "\n",
        "\n",
        "data_map = make_map(\"input.txt\")\n",
        "DIRS = {\n",
        "    \"right\": (0, 1),\n",
        "    \"left\": (0, -1),\n",
        "    \"down\": (1, 0),\n",
        "    \"up\": (-1, 0),\n",
        "}\n",
        "MAX_Y = len(data_map)\n",
        "MAX_X = len(data_map[0])\n",
        "\n",
        "\n",
        "def get_pos_by_value(data: list[list[str]], value: str) -> list[tuple[int, int] | None]:\n",
        "    pos = []\n",
        "    for i in range(MAX_Y):\n",
        "        for j in range(MAX_X):\n",
        "            if data[i][j] == value:\n",
        "                pos.append((i, j))\n",
        "    return pos\n",
        "\n",
        "\n",
        "def _update_position(pos: position, dir: str) -> position:\n",
        "    return tuple(y + x for y, x in zip(pos, DIRS[dir]))\n",
        "\n",
        "\n",
        "def _check_in_map(pos: position) -> bool:\n",
        "    return pos[0] >= 0 and pos[1] >= 0 and pos[0] < MAX_Y and pos[1] < MAX_X\n",
        "\n",
        "\n",
        "def _get_valid_neighbors(data: list[list[str]], pos: position) -> list[position]:\n",
        "    valid_neighbors = []\n",
        "    for dir in DIRS:\n",
        "        new_pos = _update_position(pos, dir)\n",
        "        if data[new_pos[0]][new_pos[1]] != \"#\":\n",
        "            valid_neighbors.append(new_pos)\n",
        "    return valid_neighbors\n",
        "\n",
        "\n",
        "def bfs(data: list[list[str]], start: position, end: position):\n",
        "    explore_q = [start]\n",
        "    visited = set()\n",
        "    visited.add(start)\n",
        "    prev = {start: start}\n",
        "    dists = {start: 0}\n",
        "    while explore_q:\n",
        "        cur = explore_q.pop()\n",
        "        neighbors = _get_valid_neighbors(data, cur)\n",
        "        for neighbor in neighbors:\n",
        "            if neighbor not in visited:\n",
        "                prev[neighbor] = cur\n",
        "                dists[neighbor] = dists[cur] + 1\n",
        "                explore_q.append(neighbor)\n",
        "                visited.add(neighbor)\n",
        "    dist = None\n",
        "    for p, d in dist.items():\n",
        "        if p == end:\n",
        "            dist = d\n",
        "    return dist, dists\n",
        "\n",
        "\n",
        "start = get_pos_by_value(data_map, \"S\")[0]\n",
        "end = get_pos_by_value(data_map, \"E\")[0]\n",
        "dist, path = bfs(data_map, start, end)"
      ]
    },
    {
      "cell_type": "code",
      "execution_count": 2,
      "metadata": {},
      "outputs": [],
      "source": [
        "def _get_neighbors_in_map(pos: position) -> list[position]:\n",
        "    valid_neighbors = []\n",
        "    for dir in DIRS:\n",
        "        new_pos = _update_position(pos, dir)\n",
        "        if _check_in_map(new_pos):\n",
        "            valid_neighbors.append(new_pos)\n",
        "    return valid_neighbors\n",
        "\n",
        "\n",
        "def bfs_max_step(\n",
        "    start: position,\n",
        "    start_cost: int,\n",
        "    true_path: dict[position, int],\n",
        "    max_step: int,\n",
        "):\n",
        "    explore_q = [start]\n",
        "    visited = set()\n",
        "    visited.add(start)\n",
        "    dist = {start: 0}\n",
        "    dist_in_path = {start: 0}\n",
        "    while explore_q:\n",
        "        cur = explore_q.pop()\n",
        "        neighbors = _get_neighbors_in_map(cur)\n",
        "        for neighbor in neighbors:\n",
        "            new_dist = dist[cur] + 1\n",
        "            if neighbor not in visited:\n",
        "                if new_dist <= max_step:\n",
        "                    explore_q.append(neighbor)\n",
        "                    if (\n",
        "                        neighbor in true_path\n",
        "                        and true_path[neighbor] > start_cost + new_dist\n",
        "                    ):\n",
        "                        dist_in_path[neighbor] = new_dist\n",
        "                dist[neighbor] = new_dist\n",
        "                visited.add(neighbor)\n",
        "            elif new_dist <= max_step and new_dist < dist[neighbor]:\n",
        "                explore_q.append(neighbor)\n",
        "                dist[neighbor] = new_dist\n",
        "                if (\n",
        "                    neighbor in true_path\n",
        "                    and true_path[neighbor] > start_cost + new_dist\n",
        "                ):\n",
        "                    dist_in_path[neighbor] = new_dist\n",
        "\n",
        "    return dist_in_path"
      ]
    },
    {
      "cell_type": "code",
      "execution_count": 3,
      "metadata": {},
      "outputs": [
        {
          "data": {
            "text/plain": [
              "1343"
            ]
          },
          "execution_count": 3,
          "metadata": {},
          "output_type": "execute_result"
        }
      ],
      "source": [
        "cheats = []\n",
        "for pos, cost in path.items():\n",
        "    possible_cheats = bfs_max_step(pos, cost, path, 2)\n",
        "    for cheat_pos, cheat_dist in possible_cheats.items():\n",
        "        cheats.append(path[cheat_pos] - cost - cheat_dist)\n",
        "\n",
        "cheats_len = [c for c in cheats if c >= 100]\n",
        "len(cheats_len)\n"
      ]
    },
    {
      "cell_type": "markdown",
      "metadata": {
        "id": "yiKeMv3lJPM_"
      },
      "source": [
        "## Part 2\n",
        "Find out how many cheats of 20 steps save over 100 steps between the start and end"
      ]
    },
    {
      "cell_type": "code",
      "execution_count": 4,
      "metadata": {},
      "outputs": [
        {
          "data": {
            "text/plain": [
              "982891"
            ]
          },
          "execution_count": 4,
          "metadata": {},
          "output_type": "execute_result"
        }
      ],
      "source": [
        "cheats = []\n",
        "for pos, cost in path.items():\n",
        "    possible_cheats = bfs_max_step(pos, cost, path, 20)\n",
        "    for cheat_pos, cheat_dist in possible_cheats.items():\n",
        "        cheats.append(path[cheat_pos] - cost - cheat_dist)\n",
        "\n",
        "cheats_len = [c for c in cheats if c >= 100]\n",
        "len(cheats_len)\n"
      ]
    }
  ],
  "metadata": {
    "colab": {
      "provenance": []
    },
    "kernelspec": {
      "display_name": ".venv",
      "language": "python",
      "name": "python3"
    },
    "language_info": {
      "codemirror_mode": {
        "name": "ipython",
        "version": 3
      },
      "file_extension": ".py",
      "mimetype": "text/x-python",
      "name": "python",
      "nbconvert_exporter": "python",
      "pygments_lexer": "ipython3",
      "version": "3.12.8"
    }
  },
  "nbformat": 4,
  "nbformat_minor": 0
}
