{
  "cells": [
    {
      "cell_type": "markdown",
      "metadata": {
        "id": "e7qDcWW3JF8G"
      },
      "source": [
        "# Advent of Code 2024: Day 19\n",
        "https://adventofcode.com/2024/day/19\n"
      ]
    },
    {
      "cell_type": "markdown",
      "metadata": {
        "id": "krtSVL3uJOQC"
      },
      "source": [
        "## Part 1\n",
        "Check how many designs are possible by combining different patterns"
      ]
    },
    {
      "cell_type": "code",
      "execution_count": 1,
      "metadata": {
        "id": "xQfXHvPiJQrT"
      },
      "outputs": [],
      "source": [
        "def read_data(data: str):\n",
        "    with open(data, \"r\") as f:\n",
        "        data = f.read()\n",
        "        designs = []\n",
        "        for i, line in enumerate(data.split(\"\\n\")):\n",
        "            if i == 0:\n",
        "                patterns = tuple(s for s in line.split(\", \"))\n",
        "            elif line:\n",
        "                designs.append(line)\n",
        "    return patterns, designs\n",
        "\n",
        "\n",
        "patterns, designs = read_data(\"input.txt\")"
      ]
    },
    {
      "cell_type": "code",
      "execution_count": 2,
      "metadata": {},
      "outputs": [],
      "source": [
        "from functools import cache\n",
        "\n",
        "\n",
        "@cache\n",
        "def check_pattern(pattern: str, patterns: tuple[str], design: str):\n",
        "    found = 0\n",
        "    if pattern == design:\n",
        "        return 1\n",
        "    if len(pattern) >= len(design):\n",
        "        return 0\n",
        "\n",
        "    for p in patterns:\n",
        "        new_pattern = pattern + p\n",
        "        if new_pattern == design[: len(new_pattern)]:\n",
        "            found += check_pattern(pattern + p, patterns, design)\n",
        "    return found"
      ]
    },
    {
      "cell_type": "code",
      "execution_count": 3,
      "metadata": {},
      "outputs": [
        {
          "data": {
            "text/plain": [
              "276"
            ]
          },
          "execution_count": 3,
          "metadata": {},
          "output_type": "execute_result"
        }
      ],
      "source": [
        "total = 0\n",
        "for design in designs:\n",
        "    p = 0\n",
        "    for pattern in patterns:\n",
        "        p += check_pattern(pattern, patterns, design)\n",
        "    if p:\n",
        "        total += 1\n",
        "total"
      ]
    },
    {
      "cell_type": "markdown",
      "metadata": {
        "id": "yiKeMv3lJPM_"
      },
      "source": [
        "## Part 2\n",
        "Check how many ways the designs are possible by combining different patterns"
      ]
    },
    {
      "cell_type": "code",
      "execution_count": 4,
      "metadata": {},
      "outputs": [
        {
          "data": {
            "text/plain": [
              "681226908011510"
            ]
          },
          "execution_count": 4,
          "metadata": {},
          "output_type": "execute_result"
        }
      ],
      "source": [
        "total = 0\n",
        "for design in designs:\n",
        "    p = 0\n",
        "    for pattern in patterns:\n",
        "        total += check_pattern(pattern, patterns, design)\n",
        "total"
      ]
    }
  ],
  "metadata": {
    "colab": {
      "provenance": []
    },
    "kernelspec": {
      "display_name": ".venv",
      "language": "python",
      "name": "python3"
    },
    "language_info": {
      "codemirror_mode": {
        "name": "ipython",
        "version": 3
      },
      "file_extension": ".py",
      "mimetype": "text/x-python",
      "name": "python",
      "nbconvert_exporter": "python",
      "pygments_lexer": "ipython3",
      "version": "3.12.8"
    }
  },
  "nbformat": 4,
  "nbformat_minor": 0
}
